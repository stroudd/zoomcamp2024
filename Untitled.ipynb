{
 "cells": [
  {
   "cell_type": "code",
   "execution_count": null,
   "id": "7f50784c-9fba-4900-ab06-d41167bd180b",
   "metadata": {},
   "outputs": [],
   "source": []
  }
 ],
 "metadata": {
  "kernelspec": {
   "display_name": "",
   "name": ""
  },
  "language_info": {
   "name": ""
  }
 },
 "nbformat": 4,
 "nbformat_minor": 5
}
